{
 "cells": [
  {
   "cell_type": "code",
   "execution_count": 1,
   "metadata": {},
   "outputs": [],
   "source": [
    "import pandas as pd\n",
    "import numpy as np\n",
    "from matplotlib import pyplot as plt\n",
    "import gmaps\n",
    "import datetime\n",
    "import lightgbm\n",
    "from sklearn.model_selection import cross_val_score,TimeSeriesSplit\n",
    "from sklearn.metrics import mean_absolute_error\n",
    "%matplotlib inline"
   ]
  },
  {
   "cell_type": "code",
   "execution_count": 2,
   "metadata": {},
   "outputs": [],
   "source": [
    "train = pd.read_csv('yellow_tripdata_2015.csv')"
   ]
  },
  {
   "cell_type": "code",
   "execution_count": 3,
   "metadata": {},
   "outputs": [
    {
     "data": {
      "text/plain": [
       "(69006887, 4)"
      ]
     },
     "execution_count": 3,
     "metadata": {},
     "output_type": "execute_result"
    }
   ],
   "source": [
    "train.shape"
   ]
  },
  {
   "cell_type": "code",
   "execution_count": 4,
   "metadata": {},
   "outputs": [],
   "source": [
    "#удалим строки без значений\n",
    "train.dropna(inplace=True)"
   ]
  },
  {
   "cell_type": "markdown",
   "metadata": {},
   "source": [
    "# Начнем с определения диапазонов координат с наибольшим количеством заказов"
   ]
  },
  {
   "cell_type": "code",
   "execution_count": 5,
   "metadata": {},
   "outputs": [],
   "source": [
    "bins_long = [x for x in range(-180,180,10)]\n",
    "bins_lat= [x for x in range(-90,90,10)]\n",
    "label_long = [x for x in range(len(bins_long)-1)]\n",
    "label_lat = [x for x in range(len(bins_lat)-1)] "
   ]
  },
  {
   "cell_type": "code",
   "execution_count": 6,
   "metadata": {},
   "outputs": [],
   "source": [
    "train['lon_range'] = pd.cut(train['pickup_longitude'],bins=bins_long)\n",
    "train['lat_range'] = pd.cut(train['pickup_latitude'],bins=bins_lat)\n",
    "train['cat_lon'] = pd.cut(train['pickup_longitude'],bins=bins_long,labels=label_long)\n",
    "train['cat_lat'] = pd.cut(train['pickup_latitude'],bins=bins_lat,labels=label_lat)"
   ]
  },
  {
   "cell_type": "code",
   "execution_count": 7,
   "metadata": {},
   "outputs": [
    {
     "data": {
      "text/html": [
       "<div>\n",
       "<style scoped>\n",
       "    .dataframe tbody tr th:only-of-type {\n",
       "        vertical-align: middle;\n",
       "    }\n",
       "\n",
       "    .dataframe tbody tr th {\n",
       "        vertical-align: top;\n",
       "    }\n",
       "\n",
       "    .dataframe thead th {\n",
       "        text-align: right;\n",
       "    }\n",
       "</style>\n",
       "<table border=\"1\" class=\"dataframe\">\n",
       "  <thead>\n",
       "    <tr style=\"text-align: right;\">\n",
       "      <th></th>\n",
       "      <th>Unnamed: 0</th>\n",
       "      <th>tpep_pickup_datetime</th>\n",
       "      <th>pickup_longitude</th>\n",
       "      <th>pickup_latitude</th>\n",
       "      <th>lon_range</th>\n",
       "      <th>lat_range</th>\n",
       "      <th>cat_lon</th>\n",
       "      <th>cat_lat</th>\n",
       "    </tr>\n",
       "  </thead>\n",
       "  <tbody>\n",
       "    <tr>\n",
       "      <th>0</th>\n",
       "      <td>0</td>\n",
       "      <td>2015-07-01 00:00:00</td>\n",
       "      <td>-73.994156</td>\n",
       "      <td>40.751125</td>\n",
       "      <td>(-80, -70]</td>\n",
       "      <td>(40, 50]</td>\n",
       "      <td>10</td>\n",
       "      <td>13</td>\n",
       "    </tr>\n",
       "    <tr>\n",
       "      <th>1</th>\n",
       "      <td>1</td>\n",
       "      <td>2015-07-01 00:00:00</td>\n",
       "      <td>-73.984657</td>\n",
       "      <td>40.768486</td>\n",
       "      <td>(-80, -70]</td>\n",
       "      <td>(40, 50]</td>\n",
       "      <td>10</td>\n",
       "      <td>13</td>\n",
       "    </tr>\n",
       "    <tr>\n",
       "      <th>2</th>\n",
       "      <td>2</td>\n",
       "      <td>2015-07-01 00:00:00</td>\n",
       "      <td>-73.978889</td>\n",
       "      <td>40.762287</td>\n",
       "      <td>(-80, -70]</td>\n",
       "      <td>(40, 50]</td>\n",
       "      <td>10</td>\n",
       "      <td>13</td>\n",
       "    </tr>\n",
       "    <tr>\n",
       "      <th>3</th>\n",
       "      <td>3</td>\n",
       "      <td>2015-07-01 00:00:00</td>\n",
       "      <td>-73.992790</td>\n",
       "      <td>40.742760</td>\n",
       "      <td>(-80, -70]</td>\n",
       "      <td>(40, 50]</td>\n",
       "      <td>10</td>\n",
       "      <td>13</td>\n",
       "    </tr>\n",
       "    <tr>\n",
       "      <th>4</th>\n",
       "      <td>4</td>\n",
       "      <td>2015-07-01 00:00:00</td>\n",
       "      <td>-73.912430</td>\n",
       "      <td>40.769810</td>\n",
       "      <td>(-80, -70]</td>\n",
       "      <td>(40, 50]</td>\n",
       "      <td>10</td>\n",
       "      <td>13</td>\n",
       "    </tr>\n",
       "  </tbody>\n",
       "</table>\n",
       "</div>"
      ],
      "text/plain": [
       "   Unnamed: 0 tpep_pickup_datetime  pickup_longitude  pickup_latitude  \\\n",
       "0           0  2015-07-01 00:00:00        -73.994156        40.751125   \n",
       "1           1  2015-07-01 00:00:00        -73.984657        40.768486   \n",
       "2           2  2015-07-01 00:00:00        -73.978889        40.762287   \n",
       "3           3  2015-07-01 00:00:00        -73.992790        40.742760   \n",
       "4           4  2015-07-01 00:00:00        -73.912430        40.769810   \n",
       "\n",
       "    lon_range lat_range cat_lon cat_lat  \n",
       "0  (-80, -70]  (40, 50]      10      13  \n",
       "1  (-80, -70]  (40, 50]      10      13  \n",
       "2  (-80, -70]  (40, 50]      10      13  \n",
       "3  (-80, -70]  (40, 50]      10      13  \n",
       "4  (-80, -70]  (40, 50]      10      13  "
      ]
     },
     "execution_count": 7,
     "metadata": {},
     "output_type": "execute_result"
    }
   ],
   "source": [
    "train.head()"
   ]
  },
  {
   "cell_type": "code",
   "execution_count": 8,
   "metadata": {},
   "outputs": [
    {
     "data": {
      "text/plain": [
       "lon_range     lat_range\n",
       "(-80, -70]    (40, 50]     68032539\n",
       "(-10, 0]      (-10, 0]       973246\n",
       "(-80, -70]    (30, 40]          347\n",
       "(-130, -120]  (30, 40]          167\n",
       "(-70, -60]    (40, 50]          113\n",
       "Name: pickup_latitude, dtype: int64"
      ]
     },
     "execution_count": 8,
     "metadata": {},
     "output_type": "execute_result"
    }
   ],
   "source": [
    "train.groupby(by=['lon_range','lat_range'])['pickup_latitude'].count().sort_values(ascending=False).head(5)"
   ]
  },
  {
   "cell_type": "markdown",
   "metadata": {},
   "source": [
    "# Наибольшее количество в longitude (-80, -70] latitude (40, 50]"
   ]
  },
  {
   "cell_type": "markdown",
   "metadata": {},
   "source": [
    "# Разобъем найденный диапазон еще на несколько бинов"
   ]
  },
  {
   "cell_type": "code",
   "execution_count": 5,
   "metadata": {},
   "outputs": [],
   "source": [
    "bins_long = [x for x in range(-80,-70,1)]\n",
    "bins_lat= [x for x in range(40,50,1)]\n",
    "label_long = [x for x in range(len(bins_long)-1)]\n",
    "label_lat = [x for x in range(len(bins_lat)-1)] "
   ]
  },
  {
   "cell_type": "code",
   "execution_count": 6,
   "metadata": {},
   "outputs": [],
   "source": [
    "train['lon_range'] = pd.cut(train['pickup_longitude'],bins=bins_long)\n",
    "train['lat_range'] = pd.cut(train['pickup_latitude'],bins=bins_lat)\n",
    "train['cat_lon'] = pd.cut(train['pickup_longitude'],bins=bins_long,labels=label_long)\n",
    "train['cat_lat'] = pd.cut(train['pickup_latitude'],bins=bins_lat,labels=label_lat)"
   ]
  },
  {
   "cell_type": "code",
   "execution_count": 11,
   "metadata": {},
   "outputs": [
    {
     "data": {
      "text/plain": [
       "lon_range   lat_range\n",
       "(-74, -73]  (40, 41]     58870535\n",
       "(-75, -74]  (40, 41]      9158453\n",
       "(-74, -73]  (41, 42]         2626\n",
       "(-75, -74]  (41, 42]          496\n",
       "(-73, -72]  (41, 42]           53\n",
       "Name: pickup_latitude, dtype: int64"
      ]
     },
     "execution_count": 11,
     "metadata": {},
     "output_type": "execute_result"
    }
   ],
   "source": [
    "train.groupby(by=['lon_range','lat_range'])['pickup_latitude'].count().sort_values(ascending=False).head(5)"
   ]
  },
  {
   "cell_type": "markdown",
   "metadata": {},
   "source": [
    "# Наибольшее количество из координат longitude  (-74, -73] latitude (40, 41]\n",
    "## Оставим только данные объекты"
   ]
  },
  {
   "cell_type": "code",
   "execution_count": 7,
   "metadata": {},
   "outputs": [],
   "source": [
    "train.drop(train[train['cat_lon']!=6].index,inplace=True)"
   ]
  },
  {
   "cell_type": "code",
   "execution_count": 8,
   "metadata": {},
   "outputs": [],
   "source": [
    "train.drop(train[train['cat_lat']!=0].index,inplace=True)"
   ]
  },
  {
   "cell_type": "code",
   "execution_count": 9,
   "metadata": {},
   "outputs": [
    {
     "data": {
      "text/plain": [
       "(58870535, 8)"
      ]
     },
     "execution_count": 9,
     "metadata": {},
     "output_type": "execute_result"
    }
   ],
   "source": [
    "train.shape"
   ]
  },
  {
   "cell_type": "markdown",
   "metadata": {},
   "source": [
    "# Возьмем сэмпл из мейна и построим Heatmap"
   ]
  },
  {
   "cell_type": "code",
   "execution_count": 10,
   "metadata": {},
   "outputs": [
    {
     "data": {
      "application/vnd.jupyter.widget-view+json": {
       "model_id": "d2e1fc2877e8407d94d9ecc0bfbb2e37",
       "version_major": 2,
       "version_minor": 0
      },
      "text/plain": [
       "Figure(layout=FigureLayout(height='420px'))"
      ]
     },
     "metadata": {},
     "output_type": "display_data"
    }
   ],
   "source": [
    "gmaps.configure(api_key=\"....\")\n",
    "\n",
    "locations = train.sample(50000)[['pickup_latitude','pickup_longitude']]\n",
    "\n",
    "fig = gmaps.figure()\n",
    "fig.add_layer(gmaps.heatmap_layer(locations))\n",
    "fig"
   ]
  },
  {
   "cell_type": "markdown",
   "metadata": {},
   "source": [
    "# Заказы поступают из Нью-Йорка, остров Манхэттен и двух близлежайших аэропортов"
   ]
  },
  {
   "cell_type": "markdown",
   "metadata": {},
   "source": [
    "# Отсечем по долготе объекты, относящиеся к двум аэропортам"
   ]
  },
  {
   "cell_type": "code",
   "execution_count": 11,
   "metadata": {},
   "outputs": [
    {
     "data": {
      "text/plain": [
       "(58870535, 8)"
      ]
     },
     "execution_count": 11,
     "metadata": {},
     "output_type": "execute_result"
    }
   ],
   "source": [
    "train.shape"
   ]
  },
  {
   "cell_type": "code",
   "execution_count": 12,
   "metadata": {},
   "outputs": [],
   "source": [
    "train.drop(train[train['pickup_longitude']>-73.930157].index,inplace=True)"
   ]
  },
  {
   "cell_type": "code",
   "execution_count": 13,
   "metadata": {},
   "outputs": [
    {
     "data": {
      "application/vnd.jupyter.widget-view+json": {
       "model_id": "5ec61bdc544f449ebc852314e9a07926",
       "version_major": 2,
       "version_minor": 0
      },
      "text/plain": [
       "Figure(layout=FigureLayout(height='420px'))"
      ]
     },
     "metadata": {},
     "output_type": "display_data"
    }
   ],
   "source": [
    "gmaps.configure(api_key=\"....\")\n",
    "locations = train.sample(5000)[['pickup_latitude','pickup_longitude']]\n",
    "\n",
    "fig = gmaps.figure()\n",
    "fig.add_layer(gmaps.heatmap_layer(locations))\n",
    "fig"
   ]
  },
  {
   "cell_type": "code",
   "execution_count": 14,
   "metadata": {},
   "outputs": [],
   "source": [
    "train.drop(['lon_range','lat_range','cat_lon','cat_lat'],axis=1,inplace=True)"
   ]
  },
  {
   "cell_type": "code",
   "execution_count": 15,
   "metadata": {},
   "outputs": [],
   "source": [
    "import gc"
   ]
  },
  {
   "cell_type": "code",
   "execution_count": 16,
   "metadata": {},
   "outputs": [
    {
     "data": {
      "text/plain": [
       "47"
      ]
     },
     "execution_count": 16,
     "metadata": {},
     "output_type": "execute_result"
    }
   ],
   "source": [
    "gc.collect()"
   ]
  },
  {
   "cell_type": "code",
   "execution_count": 17,
   "metadata": {},
   "outputs": [
    {
     "data": {
      "text/html": [
       "<div>\n",
       "<style scoped>\n",
       "    .dataframe tbody tr th:only-of-type {\n",
       "        vertical-align: middle;\n",
       "    }\n",
       "\n",
       "    .dataframe tbody tr th {\n",
       "        vertical-align: top;\n",
       "    }\n",
       "\n",
       "    .dataframe thead th {\n",
       "        text-align: right;\n",
       "    }\n",
       "</style>\n",
       "<table border=\"1\" class=\"dataframe\">\n",
       "  <thead>\n",
       "    <tr style=\"text-align: right;\">\n",
       "      <th></th>\n",
       "      <th>Unnamed: 0</th>\n",
       "      <th>tpep_pickup_datetime</th>\n",
       "      <th>pickup_longitude</th>\n",
       "      <th>pickup_latitude</th>\n",
       "    </tr>\n",
       "  </thead>\n",
       "  <tbody>\n",
       "    <tr>\n",
       "      <th>0</th>\n",
       "      <td>0</td>\n",
       "      <td>2015-07-01 00:00:00</td>\n",
       "      <td>-73.994156</td>\n",
       "      <td>40.751125</td>\n",
       "    </tr>\n",
       "    <tr>\n",
       "      <th>1</th>\n",
       "      <td>1</td>\n",
       "      <td>2015-07-01 00:00:00</td>\n",
       "      <td>-73.984657</td>\n",
       "      <td>40.768486</td>\n",
       "    </tr>\n",
       "    <tr>\n",
       "      <th>2</th>\n",
       "      <td>2</td>\n",
       "      <td>2015-07-01 00:00:00</td>\n",
       "      <td>-73.978889</td>\n",
       "      <td>40.762287</td>\n",
       "    </tr>\n",
       "    <tr>\n",
       "      <th>3</th>\n",
       "      <td>3</td>\n",
       "      <td>2015-07-01 00:00:00</td>\n",
       "      <td>-73.992790</td>\n",
       "      <td>40.742760</td>\n",
       "    </tr>\n",
       "    <tr>\n",
       "      <th>5</th>\n",
       "      <td>5</td>\n",
       "      <td>2015-07-01 00:00:00</td>\n",
       "      <td>-73.959160</td>\n",
       "      <td>40.773430</td>\n",
       "    </tr>\n",
       "  </tbody>\n",
       "</table>\n",
       "</div>"
      ],
      "text/plain": [
       "   Unnamed: 0 tpep_pickup_datetime  pickup_longitude  pickup_latitude\n",
       "0           0  2015-07-01 00:00:00        -73.994156        40.751125\n",
       "1           1  2015-07-01 00:00:00        -73.984657        40.768486\n",
       "2           2  2015-07-01 00:00:00        -73.978889        40.762287\n",
       "3           3  2015-07-01 00:00:00        -73.992790        40.742760\n",
       "5           5  2015-07-01 00:00:00        -73.959160        40.773430"
      ]
     },
     "execution_count": 17,
     "metadata": {},
     "output_type": "execute_result"
    }
   ],
   "source": [
    "train.head()"
   ]
  },
  {
   "cell_type": "markdown",
   "metadata": {},
   "source": [
    "# Сгруппируем заказы по часам"
   ]
  },
  {
   "cell_type": "code",
   "execution_count": 21,
   "metadata": {},
   "outputs": [],
   "source": [
    "train['tpep_pickup_datetime'] = pd.to_datetime(train['tpep_pickup_datetime'])"
   ]
  },
  {
   "cell_type": "code",
   "execution_count": 22,
   "metadata": {},
   "outputs": [],
   "source": [
    "# Сформируем признак номера месяца\n",
    "train['month'] = train['tpep_pickup_datetime'].apply(lambda x:x.month)"
   ]
  },
  {
   "cell_type": "markdown",
   "metadata": {},
   "source": [
    "# Разобъем датафрейм на части по месяцам, сагрегируем и получим признаки с количество заказов в текущем часу."
   ]
  },
  {
   "cell_type": "code",
   "execution_count": 23,
   "metadata": {},
   "outputs": [],
   "source": [
    "df_arrgerated = pd.DataFrame(data={'Date':[], 'Mean_Latitude':[],'Mean_Longitude':[],'Count':[]})"
   ]
  },
  {
   "cell_type": "code",
   "execution_count": 24,
   "metadata": {},
   "outputs": [
    {
     "name": "stdout",
     "output_type": "stream",
     "text": [
      "(744, 5)\n",
      "(744, 5)\n",
      "(720, 5)\n",
      "(744, 5)\n",
      "(720, 5)\n",
      "(744, 5)\n"
     ]
    }
   ],
   "source": [
    "monthes = [7,8,9,10,11,12]\n",
    "df_arrgerated = pd.DataFrame()\n",
    "for month in monthes:\n",
    "    df = train[train['month']== month]\n",
    "    grouped = df.groupby(df['tpep_pickup_datetime'].apply(lambda x:(x.month,x.day,x.hour)))\n",
    "    dates = grouped.count().index.values\n",
    "    Mean_Latitudes = grouped.mean()['pickup_longitude'].values\n",
    "    Mean_Longitude = grouped.mean()['pickup_latitude'].values\n",
    "    y = grouped.count()['pickup_longitude'].values\n",
    "    df_to_add = pd.DataFrame(data = {'Date':dates, 'Mean_Latitude':Mean_Latitudes,'Mean_Longitude':Mean_Longitude,'Count':y})\n",
    "    df_arrgerated = df_arrgerated.append(df_to_add,ignore_index=True)\n",
    "    print(grouped.count().shape)\n",
    "    del grouped,df"
   ]
  },
  {
   "cell_type": "code",
   "execution_count": 25,
   "metadata": {},
   "outputs": [],
   "source": [
    "del train"
   ]
  },
  {
   "cell_type": "code",
   "execution_count": 27,
   "metadata": {},
   "outputs": [
    {
     "data": {
      "text/plain": [
       "343"
      ]
     },
     "execution_count": 27,
     "metadata": {},
     "output_type": "execute_result"
    }
   ],
   "source": [
    "import gc\n",
    "gc.collect()"
   ]
  },
  {
   "cell_type": "code",
   "execution_count": 28,
   "metadata": {},
   "outputs": [
    {
     "data": {
      "text/html": [
       "<div>\n",
       "<style scoped>\n",
       "    .dataframe tbody tr th:only-of-type {\n",
       "        vertical-align: middle;\n",
       "    }\n",
       "\n",
       "    .dataframe tbody tr th {\n",
       "        vertical-align: top;\n",
       "    }\n",
       "\n",
       "    .dataframe thead th {\n",
       "        text-align: right;\n",
       "    }\n",
       "</style>\n",
       "<table border=\"1\" class=\"dataframe\">\n",
       "  <thead>\n",
       "    <tr style=\"text-align: right;\">\n",
       "      <th></th>\n",
       "      <th>Count</th>\n",
       "      <th>Date</th>\n",
       "      <th>Mean_Latitude</th>\n",
       "      <th>Mean_Longitude</th>\n",
       "    </tr>\n",
       "  </thead>\n",
       "  <tbody>\n",
       "    <tr>\n",
       "      <th>0</th>\n",
       "      <td>10246</td>\n",
       "      <td>(7, 1, 0)</td>\n",
       "      <td>-73.979891</td>\n",
       "      <td>40.750607</td>\n",
       "    </tr>\n",
       "    <tr>\n",
       "      <th>1</th>\n",
       "      <td>5684</td>\n",
       "      <td>(7, 1, 1)</td>\n",
       "      <td>-73.979766</td>\n",
       "      <td>40.748639</td>\n",
       "    </tr>\n",
       "    <tr>\n",
       "      <th>2</th>\n",
       "      <td>3512</td>\n",
       "      <td>(7, 1, 2)</td>\n",
       "      <td>-73.979884</td>\n",
       "      <td>40.747874</td>\n",
       "    </tr>\n",
       "    <tr>\n",
       "      <th>3</th>\n",
       "      <td>2249</td>\n",
       "      <td>(7, 1, 3)</td>\n",
       "      <td>-73.979295</td>\n",
       "      <td>40.747865</td>\n",
       "    </tr>\n",
       "    <tr>\n",
       "      <th>4</th>\n",
       "      <td>2428</td>\n",
       "      <td>(7, 1, 4)</td>\n",
       "      <td>-73.977096</td>\n",
       "      <td>40.753004</td>\n",
       "    </tr>\n",
       "  </tbody>\n",
       "</table>\n",
       "</div>"
      ],
      "text/plain": [
       "   Count       Date  Mean_Latitude  Mean_Longitude\n",
       "0  10246  (7, 1, 0)     -73.979891       40.750607\n",
       "1   5684  (7, 1, 1)     -73.979766       40.748639\n",
       "2   3512  (7, 1, 2)     -73.979884       40.747874\n",
       "3   2249  (7, 1, 3)     -73.979295       40.747865\n",
       "4   2428  (7, 1, 4)     -73.977096       40.753004"
      ]
     },
     "execution_count": 28,
     "metadata": {},
     "output_type": "execute_result"
    }
   ],
   "source": [
    "#Получившийся датафрейм\n",
    "df_arrgerated.head()"
   ]
  },
  {
   "cell_type": "markdown",
   "metadata": {},
   "source": [
    "# Сместим Label, так как по задаче нужно предсказать на час вперед"
   ]
  },
  {
   "cell_type": "code",
   "execution_count": 29,
   "metadata": {},
   "outputs": [],
   "source": [
    "y = df_arrgerated['Count'].values[1:]\n",
    "y= np.append(y,0)\n",
    "df_arrgerated['Count']= y\n",
    "df_arrgerated = df_arrgerated.iloc[:-1]"
   ]
  },
  {
   "cell_type": "markdown",
   "metadata": {},
   "source": [
    "# Сформируем признаки"
   ]
  },
  {
   "cell_type": "code",
   "execution_count": 30,
   "metadata": {},
   "outputs": [],
   "source": [
    "def costime(value, period=24):\n",
    "    value *= 2 * np.pi / period\n",
    "    return np.cos(value)\n",
    "def sintime(value, period=24):\n",
    "    value *= 2 * np.pi / period\n",
    "    return np.sin(value)"
   ]
  },
  {
   "cell_type": "code",
   "execution_count": 33,
   "metadata": {},
   "outputs": [],
   "source": [
    "def clear(x):\n",
    "    x = str(x)\n",
    "    x = x[1:-1]\n",
    "    x = x.split(',')\n",
    "    return x"
   ]
  },
  {
   "cell_type": "code",
   "execution_count": 34,
   "metadata": {},
   "outputs": [],
   "source": [
    "df_arrgerated['Date'] = df_arrgerated['Date'].map(clear)"
   ]
  },
  {
   "cell_type": "code",
   "execution_count": 35,
   "metadata": {},
   "outputs": [],
   "source": [
    "df_arrgerated['Month'] = df_arrgerated['Date'].apply(lambda x:x[0]).astype(int)\n",
    "df_arrgerated['Day'] = df_arrgerated['Date'].apply(lambda x:x[1]).astype(int)\n",
    "df_arrgerated['Hour'] = df_arrgerated['Date'].apply(lambda x:x[2]).astype(int)"
   ]
  },
  {
   "cell_type": "code",
   "execution_count": 36,
   "metadata": {},
   "outputs": [],
   "source": [
    "df_arrgerated['Hour_cos'] = df_arrgerated['Hour'].apply(costime)\n",
    "df_arrgerated['Hour_sin'] = df_arrgerated['Hour'].apply(sintime)"
   ]
  },
  {
   "cell_type": "code",
   "execution_count": 37,
   "metadata": {},
   "outputs": [],
   "source": [
    "def is_weekend(x):\n",
    "    a = datetime.datetime(2015, int(x[0]),int(x[1]))\n",
    "    a = 0 if a.weekday()<5 else 1\n",
    "    return a\n",
    "def weekday(x):\n",
    "    a = datetime.datetime(2015, int(x[0]),int(x[1]))\n",
    "    return a.weekday()"
   ]
  },
  {
   "cell_type": "code",
   "execution_count": 38,
   "metadata": {},
   "outputs": [],
   "source": [
    "df_arrgerated['is_weekend'] = df_arrgerated['Date'].apply(is_weekend)"
   ]
  },
  {
   "cell_type": "code",
   "execution_count": 39,
   "metadata": {},
   "outputs": [],
   "source": [
    "df_arrgerated['weekday'] = df_arrgerated['Date'].apply(weekday)"
   ]
  },
  {
   "cell_type": "code",
   "execution_count": 40,
   "metadata": {},
   "outputs": [],
   "source": [
    "y = y[:-1]"
   ]
  },
  {
   "cell_type": "code",
   "execution_count": 41,
   "metadata": {},
   "outputs": [],
   "source": [
    "df_arrgerated.drop(['Count','Date'],axis=1,inplace=True)"
   ]
  },
  {
   "cell_type": "code",
   "execution_count": 42,
   "metadata": {},
   "outputs": [
    {
     "data": {
      "text/html": [
       "<div>\n",
       "<style scoped>\n",
       "    .dataframe tbody tr th:only-of-type {\n",
       "        vertical-align: middle;\n",
       "    }\n",
       "\n",
       "    .dataframe tbody tr th {\n",
       "        vertical-align: top;\n",
       "    }\n",
       "\n",
       "    .dataframe thead th {\n",
       "        text-align: right;\n",
       "    }\n",
       "</style>\n",
       "<table border=\"1\" class=\"dataframe\">\n",
       "  <thead>\n",
       "    <tr style=\"text-align: right;\">\n",
       "      <th></th>\n",
       "      <th>Mean_Latitude</th>\n",
       "      <th>Mean_Longitude</th>\n",
       "      <th>Month</th>\n",
       "      <th>Day</th>\n",
       "      <th>Hour</th>\n",
       "      <th>Hour_cos</th>\n",
       "      <th>Hour_sin</th>\n",
       "      <th>is_weekend</th>\n",
       "      <th>weekday</th>\n",
       "    </tr>\n",
       "  </thead>\n",
       "  <tbody>\n",
       "    <tr>\n",
       "      <th>0</th>\n",
       "      <td>-73.979891</td>\n",
       "      <td>40.750607</td>\n",
       "      <td>7</td>\n",
       "      <td>1</td>\n",
       "      <td>0</td>\n",
       "      <td>1.000000</td>\n",
       "      <td>0.000000</td>\n",
       "      <td>0</td>\n",
       "      <td>2</td>\n",
       "    </tr>\n",
       "    <tr>\n",
       "      <th>1</th>\n",
       "      <td>-73.979766</td>\n",
       "      <td>40.748639</td>\n",
       "      <td>7</td>\n",
       "      <td>1</td>\n",
       "      <td>1</td>\n",
       "      <td>0.965926</td>\n",
       "      <td>0.258819</td>\n",
       "      <td>0</td>\n",
       "      <td>2</td>\n",
       "    </tr>\n",
       "    <tr>\n",
       "      <th>2</th>\n",
       "      <td>-73.979884</td>\n",
       "      <td>40.747874</td>\n",
       "      <td>7</td>\n",
       "      <td>1</td>\n",
       "      <td>2</td>\n",
       "      <td>0.866025</td>\n",
       "      <td>0.500000</td>\n",
       "      <td>0</td>\n",
       "      <td>2</td>\n",
       "    </tr>\n",
       "    <tr>\n",
       "      <th>3</th>\n",
       "      <td>-73.979295</td>\n",
       "      <td>40.747865</td>\n",
       "      <td>7</td>\n",
       "      <td>1</td>\n",
       "      <td>3</td>\n",
       "      <td>0.707107</td>\n",
       "      <td>0.707107</td>\n",
       "      <td>0</td>\n",
       "      <td>2</td>\n",
       "    </tr>\n",
       "    <tr>\n",
       "      <th>4</th>\n",
       "      <td>-73.977096</td>\n",
       "      <td>40.753004</td>\n",
       "      <td>7</td>\n",
       "      <td>1</td>\n",
       "      <td>4</td>\n",
       "      <td>0.500000</td>\n",
       "      <td>0.866025</td>\n",
       "      <td>0</td>\n",
       "      <td>2</td>\n",
       "    </tr>\n",
       "  </tbody>\n",
       "</table>\n",
       "</div>"
      ],
      "text/plain": [
       "   Mean_Latitude  Mean_Longitude  Month  Day  Hour  Hour_cos  Hour_sin  \\\n",
       "0     -73.979891       40.750607      7    1     0  1.000000  0.000000   \n",
       "1     -73.979766       40.748639      7    1     1  0.965926  0.258819   \n",
       "2     -73.979884       40.747874      7    1     2  0.866025  0.500000   \n",
       "3     -73.979295       40.747865      7    1     3  0.707107  0.707107   \n",
       "4     -73.977096       40.753004      7    1     4  0.500000  0.866025   \n",
       "\n",
       "   is_weekend  weekday  \n",
       "0           0        2  \n",
       "1           0        2  \n",
       "2           0        2  \n",
       "3           0        2  \n",
       "4           0        2  "
      ]
     },
     "execution_count": 42,
     "metadata": {},
     "output_type": "execute_result"
    }
   ],
   "source": [
    "df_arrgerated.head()"
   ]
  },
  {
   "cell_type": "markdown",
   "metadata": {},
   "source": [
    "# Разделим на train/test 70/30"
   ]
  },
  {
   "cell_type": "code",
   "execution_count": 43,
   "metadata": {},
   "outputs": [
    {
     "data": {
      "text/plain": [
       "(3090, 3090, 1325, 1325)"
      ]
     },
     "execution_count": 43,
     "metadata": {},
     "output_type": "execute_result"
    }
   ],
   "source": [
    "indx = int(df_arrgerated.shape[0] * 0.7)\n",
    "X_train, y_train, X_test, y_test = df_arrgerated.iloc[:indx].values, y[:indx], df_arrgerated.iloc[indx:].values, y[indx:]\n",
    "(X_train.shape[0], y_train.shape[0], X_test.shape[0], y_test.shape[0])"
   ]
  },
  {
   "cell_type": "code",
   "execution_count": 44,
   "metadata": {},
   "outputs": [],
   "source": [
    "model = lightgbm.LGBMRegressor()"
   ]
  },
  {
   "cell_type": "code",
   "execution_count": 45,
   "metadata": {},
   "outputs": [],
   "source": [
    "tssplit = TimeSeriesSplit(n_splits=5)"
   ]
  },
  {
   "cell_type": "code",
   "execution_count": 46,
   "metadata": {},
   "outputs": [
    {
     "name": "stdout",
     "output_type": "stream",
     "text": [
      "-1107.1406775210867 202.23446303946923\n"
     ]
    }
   ],
   "source": [
    "results = cross_val_score(model,X_train,y_train,cv=tssplit,scoring='neg_mean_absolute_error')\n",
    "print(np.mean(results),np.std(results))"
   ]
  },
  {
   "cell_type": "code",
   "execution_count": 47,
   "metadata": {},
   "outputs": [
    {
     "data": {
      "text/plain": [
       "LGBMRegressor(boosting_type='gbdt', class_weight=None, colsample_bytree=1.0,\n",
       "       learning_rate=0.1, max_depth=-1, min_child_samples=20,\n",
       "       min_child_weight=0.001, min_split_gain=0.0, n_estimators=100,\n",
       "       n_jobs=-1, num_leaves=31, objective=None, random_state=None,\n",
       "       reg_alpha=0.0, reg_lambda=0.0, silent=True, subsample=1.0,\n",
       "       subsample_for_bin=200000, subsample_freq=0)"
      ]
     },
     "execution_count": 47,
     "metadata": {},
     "output_type": "execute_result"
    }
   ],
   "source": [
    "model.fit(X_train,y_train)"
   ]
  },
  {
   "cell_type": "code",
   "execution_count": 48,
   "metadata": {},
   "outputs": [],
   "source": [
    "y_pred = model.predict(X_test)"
   ]
  },
  {
   "cell_type": "code",
   "execution_count": 49,
   "metadata": {},
   "outputs": [
    {
     "name": "stdout",
     "output_type": "stream",
     "text": [
      "Средняя абсолютная ошибка от среднего таргета в тесте =  12%\n"
     ]
    }
   ],
   "source": [
    "print(\"Средняя абсолютная ошибка от среднего таргета в тесте =  {:.0%}\".format(mean_absolute_error(y_test,y_pred) / np.mean(y_test)))"
   ]
  }
 ],
 "metadata": {
  "kernelspec": {
   "display_name": "Python 3",
   "language": "python",
   "name": "python3"
  },
  "language_info": {
   "codemirror_mode": {
    "name": "ipython",
    "version": 3
   },
   "file_extension": ".py",
   "mimetype": "text/x-python",
   "name": "python",
   "nbconvert_exporter": "python",
   "pygments_lexer": "ipython3",
   "version": "3.5.2"
  }
 },
 "nbformat": 4,
 "nbformat_minor": 2
}
